{
 "cells": [
  {
   "cell_type": "code",
   "execution_count": null,
   "id": "3b8bdce3",
   "metadata": {},
   "outputs": [],
   "source": [
    "import wikipediaapi\n",
    "import wikipedia\n",
    "import pandas as pd\n",
    "import json"
   ]
  },
  {
   "cell_type": "code",
   "execution_count": null,
   "id": "6afa335e",
   "metadata": {},
   "outputs": [],
   "source": [
    "w_page = wikipediaapi.Wikipedia(\n",
    "    user_agent='docu3c (vshrav03@gmail.com)',\n",
    "        language='en',\n",
    "        extract_format=wikipediaapi.ExtractFormat.WIKI\n",
    ")"
   ]
  },
  {
   "cell_type": "code",
   "execution_count": null,
   "id": "261776ff",
   "metadata": {},
   "outputs": [],
   "source": [
    "dict1 = {}\n",
    "dict1[\"Aan Milo Sajna\"] = w_page.page(\"Aan Milo Sajna\").summary"
   ]
  },
  {
   "cell_type": "code",
   "execution_count": null,
   "id": "c886369a",
   "metadata": {},
   "outputs": [],
   "source": [
    "print(dict1)"
   ]
  },
  {
   "cell_type": "code",
   "execution_count": 5,
   "id": "6115bda4",
   "metadata": {
    "scrolled": true
   },
   "outputs": [
    {
     "name": "stdout",
     "output_type": "stream",
     "text": [
      "[Section: Plot summary (1):\n",
      "Widowed and ailing Savitri Choudhury lives a wealthy lifestyle along with her son, Anil, in a palatial mansion in India. She knows that Anil is only waiting for her to die so that he can inherit the wealth and refuses to give him any money. The Diwan convinces Anil to mend his ways, get married, and patch-up with his mom. Shortly thereafter, Anil does appear to have mended his ways, gets involved in charity, and even introduces a young woman named Deepali to his mom. Deepali moves into the mansion and looks after Savitri so much so that Savitri decides to make her the sole beneficiary of her estate. What Savitri does not know is that Anil has hired Deepali to act as his fiancée, and that Deepali herself is not who she claims to be, and is actually in love with a local horse-riding peasant, Ajit, whose father was convicted of killing Savitri's husband, and soon Ajit himself will be arrested by the police for having an affair with and then killing a woman named Sita.\n",
      "Subsections (0):\n",
      ", Section: Cast (1):\n",
      "\n",
      "Subsections (0):\n",
      ", Section: Soundtrack (1):\n",
      "The musical score for the film was composed by Laxmikant–Pyarelal and the lyrics were written by Anand Bakshi.\n",
      "Subsections (0):\n",
      ", Section: References (1):\n",
      "\n",
      "Subsections (0):\n",
      ", Section: External links (1):\n",
      "Aan Milo Sajna at IMDb \n",
      "Aan Milo Sajna  Full movie YouTube\n",
      "Subsections (0):\n",
      "]\n"
     ]
    }
   ],
   "source": [
    "print(w_page.page(\"Aan Milo Sajna\").sections)"
   ]
  },
  {
   "cell_type": "code",
   "execution_count": 6,
   "id": "9f3a5d68",
   "metadata": {
    "scrolled": false
   },
   "outputs": [
    {
     "name": "stdout",
     "output_type": "stream",
     "text": [
      "/Users/rambo\n"
     ]
    }
   ],
   "source": [
    "import os\n",
    "current_dir = os.getcwd()\n",
    "print(current_dir)"
   ]
  },
  {
   "cell_type": "code",
   "execution_count": 7,
   "id": "8d6b8c57",
   "metadata": {},
   "outputs": [],
   "source": [
    "os.chdir(\"/Users/rambo/Desktop\")"
   ]
  },
  {
   "cell_type": "code",
   "execution_count": 8,
   "id": "9e8afa91",
   "metadata": {},
   "outputs": [
    {
     "name": "stdout",
     "output_type": "stream",
     "text": [
      "/Users/rambo/Desktop\n"
     ]
    }
   ],
   "source": [
    "current_dir = os.getcwd()\n",
    "print(current_dir)"
   ]
  },
  {
   "cell_type": "code",
   "execution_count": 9,
   "id": "e5735934",
   "metadata": {},
   "outputs": [],
   "source": [
    "plot_keywords = pd.read_csv(\"male_adjverb.csv\", on_bad_lines='skip')"
   ]
  },
  {
   "cell_type": "code",
   "execution_count": 10,
   "id": "a2686310",
   "metadata": {},
   "outputs": [
    {
     "data": {
      "text/html": [
       "<div>\n",
       "<style scoped>\n",
       "    .dataframe tbody tr th:only-of-type {\n",
       "        vertical-align: middle;\n",
       "    }\n",
       "\n",
       "    .dataframe tbody tr th {\n",
       "        vertical-align: top;\n",
       "    }\n",
       "\n",
       "    .dataframe thead th {\n",
       "        text-align: right;\n",
       "    }\n",
       "</style>\n",
       "<table border=\"1\" class=\"dataframe\">\n",
       "  <thead>\n",
       "    <tr style=\"text-align: right;\">\n",
       "      <th></th>\n",
       "      <th>year</th>\n",
       "      <th>k1</th>\n",
       "      <th>k2</th>\n",
       "      <th>k3</th>\n",
       "      <th>k4</th>\n",
       "      <th>k5</th>\n",
       "      <th>k6</th>\n",
       "      <th>k7</th>\n",
       "      <th>k8</th>\n",
       "      <th>k9</th>\n",
       "      <th>...</th>\n",
       "      <th>k16</th>\n",
       "      <th>k17</th>\n",
       "      <th>k18</th>\n",
       "      <th>k19</th>\n",
       "      <th>k20</th>\n",
       "      <th>k21</th>\n",
       "      <th>k22</th>\n",
       "      <th>k23</th>\n",
       "      <th>k24</th>\n",
       "      <th>k25</th>\n",
       "    </tr>\n",
       "  </thead>\n",
       "  <tbody>\n",
       "    <tr>\n",
       "      <th>0</th>\n",
       "      <td>1970</td>\n",
       "      <td>[]</td>\n",
       "      <td>[unhappilly]</td>\n",
       "      <td>NaN</td>\n",
       "      <td>NaN</td>\n",
       "      <td>NaN</td>\n",
       "      <td>NaN</td>\n",
       "      <td>NaN</td>\n",
       "      <td>NaN</td>\n",
       "      <td>NaN</td>\n",
       "      <td>...</td>\n",
       "      <td>NaN</td>\n",
       "      <td>NaN</td>\n",
       "      <td>NaN</td>\n",
       "      <td>NaN</td>\n",
       "      <td>NaN</td>\n",
       "      <td>NaN</td>\n",
       "      <td>NaN</td>\n",
       "      <td>NaN</td>\n",
       "      <td>NaN</td>\n",
       "      <td>NaN</td>\n",
       "    </tr>\n",
       "    <tr>\n",
       "      <th>1</th>\n",
       "      <td>1970</td>\n",
       "      <td>[lives]</td>\n",
       "      <td>[]</td>\n",
       "      <td>NaN</td>\n",
       "      <td>NaN</td>\n",
       "      <td>NaN</td>\n",
       "      <td>NaN</td>\n",
       "      <td>NaN</td>\n",
       "      <td>NaN</td>\n",
       "      <td>NaN</td>\n",
       "      <td>...</td>\n",
       "      <td>NaN</td>\n",
       "      <td>NaN</td>\n",
       "      <td>NaN</td>\n",
       "      <td>NaN</td>\n",
       "      <td>NaN</td>\n",
       "      <td>NaN</td>\n",
       "      <td>NaN</td>\n",
       "      <td>NaN</td>\n",
       "      <td>NaN</td>\n",
       "      <td>NaN</td>\n",
       "    </tr>\n",
       "    <tr>\n",
       "      <th>2</th>\n",
       "      <td>1970</td>\n",
       "      <td>[lives]</td>\n",
       "      <td>[]</td>\n",
       "      <td>NaN</td>\n",
       "      <td>NaN</td>\n",
       "      <td>NaN</td>\n",
       "      <td>NaN</td>\n",
       "      <td>NaN</td>\n",
       "      <td>NaN</td>\n",
       "      <td>NaN</td>\n",
       "      <td>...</td>\n",
       "      <td>NaN</td>\n",
       "      <td>NaN</td>\n",
       "      <td>NaN</td>\n",
       "      <td>NaN</td>\n",
       "      <td>NaN</td>\n",
       "      <td>NaN</td>\n",
       "      <td>NaN</td>\n",
       "      <td>NaN</td>\n",
       "      <td>NaN</td>\n",
       "      <td>NaN</td>\n",
       "    </tr>\n",
       "    <tr>\n",
       "      <th>3</th>\n",
       "      <td>1970</td>\n",
       "      <td>[]</td>\n",
       "      <td>[famous]</td>\n",
       "      <td>NaN</td>\n",
       "      <td>NaN</td>\n",
       "      <td>NaN</td>\n",
       "      <td>NaN</td>\n",
       "      <td>NaN</td>\n",
       "      <td>NaN</td>\n",
       "      <td>NaN</td>\n",
       "      <td>...</td>\n",
       "      <td>NaN</td>\n",
       "      <td>NaN</td>\n",
       "      <td>NaN</td>\n",
       "      <td>NaN</td>\n",
       "      <td>NaN</td>\n",
       "      <td>NaN</td>\n",
       "      <td>NaN</td>\n",
       "      <td>NaN</td>\n",
       "      <td>NaN</td>\n",
       "      <td>NaN</td>\n",
       "    </tr>\n",
       "    <tr>\n",
       "      <th>4</th>\n",
       "      <td>1970</td>\n",
       "      <td>[]</td>\n",
       "      <td>[shy</td>\n",
       "      <td>young]</td>\n",
       "      <td>NaN</td>\n",
       "      <td>NaN</td>\n",
       "      <td>NaN</td>\n",
       "      <td>NaN</td>\n",
       "      <td>NaN</td>\n",
       "      <td>NaN</td>\n",
       "      <td>...</td>\n",
       "      <td>NaN</td>\n",
       "      <td>NaN</td>\n",
       "      <td>NaN</td>\n",
       "      <td>NaN</td>\n",
       "      <td>NaN</td>\n",
       "      <td>NaN</td>\n",
       "      <td>NaN</td>\n",
       "      <td>NaN</td>\n",
       "      <td>NaN</td>\n",
       "      <td>NaN</td>\n",
       "    </tr>\n",
       "  </tbody>\n",
       "</table>\n",
       "<p>5 rows × 26 columns</p>\n",
       "</div>"
      ],
      "text/plain": [
       "   year       k1            k2       k3   k4   k5   k6   k7   k8   k9  ...  \\\n",
       "0  1970       []  [unhappilly]      NaN  NaN  NaN  NaN  NaN  NaN  NaN  ...   \n",
       "1  1970  [lives]            []      NaN  NaN  NaN  NaN  NaN  NaN  NaN  ...   \n",
       "2  1970  [lives]            []      NaN  NaN  NaN  NaN  NaN  NaN  NaN  ...   \n",
       "3  1970       []      [famous]      NaN  NaN  NaN  NaN  NaN  NaN  NaN  ...   \n",
       "4  1970       []          [shy   young]  NaN  NaN  NaN  NaN  NaN  NaN  ...   \n",
       "\n",
       "   k16  k17  k18  k19  k20  k21  k22  k23  k24 k25  \n",
       "0  NaN  NaN  NaN  NaN  NaN  NaN  NaN  NaN  NaN NaN  \n",
       "1  NaN  NaN  NaN  NaN  NaN  NaN  NaN  NaN  NaN NaN  \n",
       "2  NaN  NaN  NaN  NaN  NaN  NaN  NaN  NaN  NaN NaN  \n",
       "3  NaN  NaN  NaN  NaN  NaN  NaN  NaN  NaN  NaN NaN  \n",
       "4  NaN  NaN  NaN  NaN  NaN  NaN  NaN  NaN  NaN NaN  \n",
       "\n",
       "[5 rows x 26 columns]"
      ]
     },
     "execution_count": 10,
     "metadata": {},
     "output_type": "execute_result"
    }
   ],
   "source": [
    "plot_keywords.head()"
   ]
  },
  {
   "cell_type": "code",
   "execution_count": 11,
   "id": "5e07a023",
   "metadata": {},
   "outputs": [
    {
     "data": {
      "text/plain": [
       "Index(['year', 'k1', 'k2', 'k3', 'k4', 'k5', 'k6', 'k7', 'k8', 'k9', 'k10',\n",
       "       'k11', 'k12', 'k13', 'k14', 'k15', 'k16', 'k17', 'k18', 'k19', 'k20',\n",
       "       'k21', 'k22', 'k23', 'k24', 'k25'],\n",
       "      dtype='object')"
      ]
     },
     "execution_count": 11,
     "metadata": {},
     "output_type": "execute_result"
    }
   ],
   "source": [
    "plot_keywords.columns"
   ]
  },
  {
   "cell_type": "code",
   "execution_count": 12,
   "id": "9c40f4f2",
   "metadata": {},
   "outputs": [],
   "source": [
    "plot_keywords = plot_keywords.reset_index()"
   ]
  },
  {
   "cell_type": "code",
   "execution_count": 13,
   "id": "3af461b8",
   "metadata": {},
   "outputs": [
    {
     "data": {
      "text/plain": [
       "True"
      ]
     },
     "execution_count": 13,
     "metadata": {},
     "output_type": "execute_result"
    }
   ],
   "source": [
    "plot_keywords.index.is_unique"
   ]
  },
  {
   "cell_type": "code",
   "execution_count": 14,
   "id": "709b5795",
   "metadata": {},
   "outputs": [
    {
     "data": {
      "text/plain": [
       "array([False, False, False, ..., False, False, False])"
      ]
     },
     "execution_count": 14,
     "metadata": {},
     "output_type": "execute_result"
    }
   ],
   "source": [
    "plot_keywords.index.duplicated()"
   ]
  },
  {
   "cell_type": "code",
   "execution_count": 15,
   "id": "9e0af6dd",
   "metadata": {},
   "outputs": [],
   "source": [
    "plot_keywords.flags.allows_duplicate_labels = False"
   ]
  },
  {
   "cell_type": "code",
   "execution_count": 16,
   "id": "ae0743b2",
   "metadata": {},
   "outputs": [],
   "source": [
    "plot_keywords['keys'] = pd.concat([plot_keywords['k1'],plot_keywords['k2'],plot_keywords['k3'],plot_keywords['k4'],plot_keywords['k5'],\n",
    "                                 plot_keywords['k6'],plot_keywords['k7'],plot_keywords['k8'],plot_keywords['k9'],plot_keywords['k10'],\n",
    "                                 plot_keywords['k11'],plot_keywords['k12'],plot_keywords['k13'],plot_keywords['k14'],plot_keywords['k15'],\n",
    "                                 plot_keywords['k16'],plot_keywords['k17'],plot_keywords['k18'],plot_keywords['k19'],plot_keywords['k20'],\n",
    "                                 plot_keywords['k21'],plot_keywords['k22'],plot_keywords['k23'],plot_keywords['k24'],plot_keywords['k25']], ignore_index=True)"
   ]
  },
  {
   "cell_type": "code",
   "execution_count": 17,
   "id": "d1d60802",
   "metadata": {},
   "outputs": [
    {
     "data": {
      "text/plain": [
       "True"
      ]
     },
     "execution_count": 17,
     "metadata": {},
     "output_type": "execute_result"
    }
   ],
   "source": [
    "plot_keywords.columns.is_unique"
   ]
  },
  {
   "cell_type": "code",
   "execution_count": 18,
   "id": "d3e1d74e",
   "metadata": {},
   "outputs": [
    {
     "data": {
      "text/plain": [
       "Index(['index', 'year', 'k1', 'k2', 'k3', 'k4', 'k5', 'k6', 'k7', 'k8', 'k9',\n",
       "       'k10', 'k11', 'k12', 'k13', 'k14', 'k15', 'k16', 'k17', 'k18', 'k19',\n",
       "       'k20', 'k21', 'k22', 'k23', 'k24', 'k25', 'keys'],\n",
       "      dtype='object')"
      ]
     },
     "execution_count": 18,
     "metadata": {},
     "output_type": "execute_result"
    }
   ],
   "source": [
    "plot_keywords.columns"
   ]
  },
  {
   "cell_type": "code",
   "execution_count": 19,
   "id": "b0192979",
   "metadata": {},
   "outputs": [
    {
     "data": {
      "text/html": [
       "<div>\n",
       "<style scoped>\n",
       "    .dataframe tbody tr th:only-of-type {\n",
       "        vertical-align: middle;\n",
       "    }\n",
       "\n",
       "    .dataframe tbody tr th {\n",
       "        vertical-align: top;\n",
       "    }\n",
       "\n",
       "    .dataframe thead th {\n",
       "        text-align: right;\n",
       "    }\n",
       "</style>\n",
       "<table border=\"1\" class=\"dataframe\">\n",
       "  <thead>\n",
       "    <tr style=\"text-align: right;\">\n",
       "      <th></th>\n",
       "      <th>index</th>\n",
       "      <th>year</th>\n",
       "      <th>k1</th>\n",
       "      <th>k2</th>\n",
       "      <th>k3</th>\n",
       "      <th>k4</th>\n",
       "      <th>k5</th>\n",
       "      <th>k6</th>\n",
       "      <th>k7</th>\n",
       "      <th>k8</th>\n",
       "      <th>...</th>\n",
       "      <th>k17</th>\n",
       "      <th>k18</th>\n",
       "      <th>k19</th>\n",
       "      <th>k20</th>\n",
       "      <th>k21</th>\n",
       "      <th>k22</th>\n",
       "      <th>k23</th>\n",
       "      <th>k24</th>\n",
       "      <th>k25</th>\n",
       "      <th>keys</th>\n",
       "    </tr>\n",
       "  </thead>\n",
       "  <tbody>\n",
       "    <tr>\n",
       "      <th>0</th>\n",
       "      <td>0</td>\n",
       "      <td>1970</td>\n",
       "      <td>[]</td>\n",
       "      <td>[unhappilly]</td>\n",
       "      <td>NaN</td>\n",
       "      <td>NaN</td>\n",
       "      <td>NaN</td>\n",
       "      <td>NaN</td>\n",
       "      <td>NaN</td>\n",
       "      <td>NaN</td>\n",
       "      <td>...</td>\n",
       "      <td>NaN</td>\n",
       "      <td>NaN</td>\n",
       "      <td>NaN</td>\n",
       "      <td>NaN</td>\n",
       "      <td>NaN</td>\n",
       "      <td>NaN</td>\n",
       "      <td>NaN</td>\n",
       "      <td>NaN</td>\n",
       "      <td>NaN</td>\n",
       "      <td>[]</td>\n",
       "    </tr>\n",
       "    <tr>\n",
       "      <th>1</th>\n",
       "      <td>1</td>\n",
       "      <td>1970</td>\n",
       "      <td>[lives]</td>\n",
       "      <td>[]</td>\n",
       "      <td>NaN</td>\n",
       "      <td>NaN</td>\n",
       "      <td>NaN</td>\n",
       "      <td>NaN</td>\n",
       "      <td>NaN</td>\n",
       "      <td>NaN</td>\n",
       "      <td>...</td>\n",
       "      <td>NaN</td>\n",
       "      <td>NaN</td>\n",
       "      <td>NaN</td>\n",
       "      <td>NaN</td>\n",
       "      <td>NaN</td>\n",
       "      <td>NaN</td>\n",
       "      <td>NaN</td>\n",
       "      <td>NaN</td>\n",
       "      <td>NaN</td>\n",
       "      <td>[lives]</td>\n",
       "    </tr>\n",
       "    <tr>\n",
       "      <th>2</th>\n",
       "      <td>2</td>\n",
       "      <td>1970</td>\n",
       "      <td>[lives]</td>\n",
       "      <td>[]</td>\n",
       "      <td>NaN</td>\n",
       "      <td>NaN</td>\n",
       "      <td>NaN</td>\n",
       "      <td>NaN</td>\n",
       "      <td>NaN</td>\n",
       "      <td>NaN</td>\n",
       "      <td>...</td>\n",
       "      <td>NaN</td>\n",
       "      <td>NaN</td>\n",
       "      <td>NaN</td>\n",
       "      <td>NaN</td>\n",
       "      <td>NaN</td>\n",
       "      <td>NaN</td>\n",
       "      <td>NaN</td>\n",
       "      <td>NaN</td>\n",
       "      <td>NaN</td>\n",
       "      <td>[lives]</td>\n",
       "    </tr>\n",
       "    <tr>\n",
       "      <th>3</th>\n",
       "      <td>3</td>\n",
       "      <td>1970</td>\n",
       "      <td>[]</td>\n",
       "      <td>[famous]</td>\n",
       "      <td>NaN</td>\n",
       "      <td>NaN</td>\n",
       "      <td>NaN</td>\n",
       "      <td>NaN</td>\n",
       "      <td>NaN</td>\n",
       "      <td>NaN</td>\n",
       "      <td>...</td>\n",
       "      <td>NaN</td>\n",
       "      <td>NaN</td>\n",
       "      <td>NaN</td>\n",
       "      <td>NaN</td>\n",
       "      <td>NaN</td>\n",
       "      <td>NaN</td>\n",
       "      <td>NaN</td>\n",
       "      <td>NaN</td>\n",
       "      <td>NaN</td>\n",
       "      <td>[]</td>\n",
       "    </tr>\n",
       "    <tr>\n",
       "      <th>4</th>\n",
       "      <td>4</td>\n",
       "      <td>1970</td>\n",
       "      <td>[]</td>\n",
       "      <td>[shy</td>\n",
       "      <td>young]</td>\n",
       "      <td>NaN</td>\n",
       "      <td>NaN</td>\n",
       "      <td>NaN</td>\n",
       "      <td>NaN</td>\n",
       "      <td>NaN</td>\n",
       "      <td>...</td>\n",
       "      <td>NaN</td>\n",
       "      <td>NaN</td>\n",
       "      <td>NaN</td>\n",
       "      <td>NaN</td>\n",
       "      <td>NaN</td>\n",
       "      <td>NaN</td>\n",
       "      <td>NaN</td>\n",
       "      <td>NaN</td>\n",
       "      <td>NaN</td>\n",
       "      <td>[]</td>\n",
       "    </tr>\n",
       "  </tbody>\n",
       "</table>\n",
       "<p>5 rows × 28 columns</p>\n",
       "</div>"
      ],
      "text/plain": [
       "   index  year       k1            k2       k3   k4   k5   k6   k7   k8  ...  \\\n",
       "0      0  1970       []  [unhappilly]      NaN  NaN  NaN  NaN  NaN  NaN  ...   \n",
       "1      1  1970  [lives]            []      NaN  NaN  NaN  NaN  NaN  NaN  ...   \n",
       "2      2  1970  [lives]            []      NaN  NaN  NaN  NaN  NaN  NaN  ...   \n",
       "3      3  1970       []      [famous]      NaN  NaN  NaN  NaN  NaN  NaN  ...   \n",
       "4      4  1970       []          [shy   young]  NaN  NaN  NaN  NaN  NaN  ...   \n",
       "\n",
       "   k17  k18  k19  k20  k21  k22  k23  k24 k25     keys  \n",
       "0  NaN  NaN  NaN  NaN  NaN  NaN  NaN  NaN NaN       []  \n",
       "1  NaN  NaN  NaN  NaN  NaN  NaN  NaN  NaN NaN  [lives]  \n",
       "2  NaN  NaN  NaN  NaN  NaN  NaN  NaN  NaN NaN  [lives]  \n",
       "3  NaN  NaN  NaN  NaN  NaN  NaN  NaN  NaN NaN       []  \n",
       "4  NaN  NaN  NaN  NaN  NaN  NaN  NaN  NaN NaN       []  \n",
       "\n",
       "[5 rows x 28 columns]"
      ]
     },
     "execution_count": 19,
     "metadata": {},
     "output_type": "execute_result"
    }
   ],
   "source": [
    "plot_keywords.head()"
   ]
  },
  {
   "cell_type": "code",
   "execution_count": null,
   "id": "64d5384d",
   "metadata": {},
   "outputs": [],
   "source": [
    "cols = ['k1','k2','k3','k4','k5','k6','k7','k8','k9','k10',\n",
    "       'k11','k12','k13','k14','k15','k16','k17','k18','k19','k20',\n",
    "       'k21','k22','k23','k24','k25']\n",
    "\n",
    "i=0\n",
    "while i<25:\n",
    "    keys=plot_keywords[cols[i]].values.tolist()\n"
   ]
  },
  {
   "cell_type": "code",
   "execution_count": null,
   "id": "e612f78c",
   "metadata": {},
   "outputs": [],
   "source": [
    "print(keys)"
   ]
  },
  {
   "cell_type": "code",
   "execution_count": null,
   "id": "2e662be0",
   "metadata": {},
   "outputs": [],
   "source": []
  }
 ],
 "metadata": {
  "kernelspec": {
   "display_name": "Python 3 (ipykernel)",
   "language": "python",
   "name": "python3"
  },
  "language_info": {
   "codemirror_mode": {
    "name": "ipython",
    "version": 3
   },
   "file_extension": ".py",
   "mimetype": "text/x-python",
   "name": "python",
   "nbconvert_exporter": "python",
   "pygments_lexer": "ipython3",
   "version": "3.10.9"
  }
 },
 "nbformat": 4,
 "nbformat_minor": 5
}
